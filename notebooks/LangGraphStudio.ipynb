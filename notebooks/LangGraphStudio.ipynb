{
 "cells": [
  {
   "cell_type": "code",
   "execution_count": null,
   "id": "530768a6",
   "metadata": {},
   "outputs": [
    {
     "name": "stdout",
     "output_type": "stream",
     "text": [
      "Receiving new event of type: metadata...\n",
      "{'run_id': '019904f5-00ac-763e-a4dc-8d5b6999f465', 'attempt': 1}\n",
      "\n",
      "\n",
      "\n",
      "Receiving new event of type: updates...\n",
      "{'Poem 1': {'messages': [{'content': \"Okay, here's a poem about squirrels:\\n\\nA flash of fur, a flick of tail,\\nAcross the lawn, they never fail\\nTo charm us with their busy ways,\\nThrough sunny days and autumn haze.\\n\\nWith cheek pouches stuffed so wide,\\nA treasure trove they cannot hide,\\nThey bury nuts with frantic paws,\\nIgnoring all natural laws.\\n\\nAcrobats of branch and tree,\\nSo quick and nimble, wild and free,\\nThey chatter secrets to the breeze,\\nAmong the rustling leaves of trees.\", 'additional_kwargs': {}, 'response_metadata': {'prompt_feedback': {'block_reason': 0, 'safety_ratings': []}, 'finish_reason': 'STOP', 'model_name': 'gemini-2.0-flash-exp', 'safety_ratings': []}, 'type': 'ai', 'name': None, 'id': 'run--098e887d-61f3-42c4-bc3c-98652d278353-0', 'example': False, 'tool_calls': [], 'invalid_tool_calls': [], 'usage_metadata': {'input_tokens': 1113, 'output_tokens': 111, 'total_tokens': 1224, 'input_token_details': {'cache_read': 0}}}]}}\n",
      "\n",
      "\n",
      "\n",
      "Receiving new event of type: updates...\n",
      "{'Poem 2': {'messages': [{'content': \"Here's a poem about cats:\\n\\nIn shadows deep, or sunlit স্থান,\\nA feline grace, a purring plan.\\nWith eyes of jade or sapphire bright,\\nThey watch the world in day and night.\\n\\nA velvet paw, a silent tread,\\nA hunter's instinct, finely bred.\\nA gentle rub, a soft meow,\\nDemanding love, but not quite how.\\n\\nA furry friend, a mystery,\\nA creature of pure reverie.\\nThey curl and sleep, a peaceful sight,\\nAnd fill our lives with soft delight.\", 'additional_kwargs': {}, 'response_metadata': {'prompt_feedback': {'block_reason': 0, 'safety_ratings': []}, 'finish_reason': 'STOP', 'model_name': 'gemini-2.0-flash-exp', 'safety_ratings': []}, 'type': 'ai', 'name': None, 'id': 'run--1ed288d6-f7ad-472f-9a37-2106b27cb7fb-0', 'example': False, 'tool_calls': [], 'invalid_tool_calls': [], 'usage_metadata': {'input_tokens': 1223, 'output_tokens': 124, 'total_tokens': 1347, 'input_token_details': {'cache_read': 0}}}]}}\n",
      "\n",
      "\n",
      "\n",
      "Receiving new event of type: ...\n",
      "None\n",
      "\n",
      "\n",
      "\n",
      "Receiving new event of type: updates...\n",
      "{'Poem 3': {'messages': [{'content': \"Sure, here's a poem about whales:\\n\\nIn ocean depths, a giant glides,\\nA gentle soul where mystery hides.\\nWith mighty tail and songs profound,\\nThrough endless blue, their world is bound.\\n\\nA symphony of ancient sound,\\nEchoes where sunlight can't be found.\\nThey breach and leap, a wondrous sight,\\nGiants dancing in pale moonlight.\\n\\nFrom polar ice to tropic shore,\\nThey journey far, and ask no more\\nThan space to roam, and seas to keep,\\nTheir silent vigil in the deep.\", 'additional_kwargs': {}, 'response_metadata': {'prompt_feedback': {'block_reason': 0, 'safety_ratings': []}, 'finish_reason': 'STOP', 'model_name': 'gemini-2.0-flash-exp', 'safety_ratings': []}, 'type': 'ai', 'name': None, 'id': 'run--6f96b8d1-845d-42f9-825f-276f3c6a7545-0', 'example': False, 'tool_calls': [], 'invalid_tool_calls': [], 'usage_metadata': {'input_tokens': 1345, 'output_tokens': 117, 'total_tokens': 1462, 'input_token_details': {'cache_read': 0}}}]}}\n",
      "\n",
      "\n",
      "\n"
     ]
    }
   ],
   "source": [
    "from langgraph_sdk import get_sync_client\n",
    "import os\n",
    "from elman import config\n",
    "\n",
    "client = get_sync_client(url=\"http://127.0.0.1:2024\", api_key=\"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\")\n",
    "\n",
    "for chunk in client.runs.stream(\n",
    "    None,  # Threadless run\n",
    "    \"Frans poems\", # Name of graph (assistant?). Defined in langgraph.json.\n",
    "    input={\n",
    "        \"messages\": [{\n",
    "            \"role\": \"human\",\n",
    "            \"content\": \"What is LangGraph?\"\n",
    "        }]\n",
    "    },\n",
    "    stream_mode=\"updates\",\n",
    "):\n",
    "    print(f\"Receiving new event of type: {chunk.event}...\")\n",
    "    print(chunk.data)\n",
    "    print(\"\\n\\n\")"
   ]
  },
  {
   "cell_type": "code",
   "execution_count": null,
   "id": "35006401",
   "metadata": {},
   "outputs": [],
   "source": []
  }
 ],
 "metadata": {
  "kernelspec": {
   "display_name": ".venv",
   "language": "python",
   "name": "python3"
  },
  "language_info": {
   "codemirror_mode": {
    "name": "ipython",
    "version": 3
   },
   "file_extension": ".py",
   "mimetype": "text/x-python",
   "name": "python",
   "nbconvert_exporter": "python",
   "pygments_lexer": "ipython3",
   "version": "3.13.2"
  }
 },
 "nbformat": 4,
 "nbformat_minor": 5
}
